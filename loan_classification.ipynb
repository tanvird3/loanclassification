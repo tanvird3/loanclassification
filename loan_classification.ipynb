{
 "cells": [
  {
   "cell_type": "code",
   "execution_count": 1,
   "metadata": {},
   "outputs": [
    {
     "data": {
      "application/javascript": [
       "\n",
       "            setTimeout(function() {\n",
       "                var nbb_cell_id = 1;\n",
       "                var nbb_formatted_code = \"%load_ext nb_black\";\n",
       "                var nbb_cells = Jupyter.notebook.get_cells();\n",
       "                for (var i = 0; i < nbb_cells.length; ++i) {\n",
       "                    if (nbb_cells[i].input_prompt_number == nbb_cell_id) {\n",
       "                        nbb_cells[i].set_text(nbb_formatted_code);\n",
       "                        break;\n",
       "                    }\n",
       "                }\n",
       "            }, 500);\n",
       "            "
      ],
      "text/plain": [
       "<IPython.core.display.Javascript object>"
      ]
     },
     "metadata": {},
     "output_type": "display_data"
    }
   ],
   "source": [
    "%load_ext nb_black"
   ]
  },
  {
   "cell_type": "code",
   "execution_count": 2,
   "metadata": {},
   "outputs": [
    {
     "data": {
      "application/javascript": [
       "\n",
       "            setTimeout(function() {\n",
       "                var nbb_cell_id = 2;\n",
       "                var nbb_formatted_code = \"import pandas as pd\\nimport numpy as np\";\n",
       "                var nbb_cells = Jupyter.notebook.get_cells();\n",
       "                for (var i = 0; i < nbb_cells.length; ++i) {\n",
       "                    if (nbb_cells[i].input_prompt_number == nbb_cell_id) {\n",
       "                        nbb_cells[i].set_text(nbb_formatted_code);\n",
       "                        break;\n",
       "                    }\n",
       "                }\n",
       "            }, 500);\n",
       "            "
      ],
      "text/plain": [
       "<IPython.core.display.Javascript object>"
      ]
     },
     "metadata": {},
     "output_type": "display_data"
    }
   ],
   "source": [
    "import pandas as pd\n",
    "import numpy as np"
   ]
  },
  {
   "cell_type": "code",
   "execution_count": 3,
   "metadata": {},
   "outputs": [
    {
     "data": {
      "application/javascript": [
       "\n",
       "            setTimeout(function() {\n",
       "                var nbb_cell_id = 3;\n",
       "                var nbb_formatted_code = \"loan_dec = pd.read_excel(\\\"F:\\\\GoogleDrive\\\\python\\\\Loan Classification\\\\december.xlsx\\\")\";\n",
       "                var nbb_cells = Jupyter.notebook.get_cells();\n",
       "                for (var i = 0; i < nbb_cells.length; ++i) {\n",
       "                    if (nbb_cells[i].input_prompt_number == nbb_cell_id) {\n",
       "                        nbb_cells[i].set_text(nbb_formatted_code);\n",
       "                        break;\n",
       "                    }\n",
       "                }\n",
       "            }, 500);\n",
       "            "
      ],
      "text/plain": [
       "<IPython.core.display.Javascript object>"
      ]
     },
     "metadata": {},
     "output_type": "display_data"
    }
   ],
   "source": [
    "loan_dec = pd.read_excel(\"F:\\GoogleDrive\\python\\Loan Classification\\december.xlsx\")"
   ]
  },
  {
   "cell_type": "code",
   "execution_count": 4,
   "metadata": {},
   "outputs": [
    {
     "data": {
      "application/javascript": [
       "\n",
       "            setTimeout(function() {\n",
       "                var nbb_cell_id = 4;\n",
       "                var nbb_formatted_code = \"loan_dec[\\\"AC\\\"] = loan_dec[\\\"BRANCH_ID\\\"].astype(str) + loan_dec[\\\"ACCOUNT_NO\\\"].astype(str)\";\n",
       "                var nbb_cells = Jupyter.notebook.get_cells();\n",
       "                for (var i = 0; i < nbb_cells.length; ++i) {\n",
       "                    if (nbb_cells[i].input_prompt_number == nbb_cell_id) {\n",
       "                        nbb_cells[i].set_text(nbb_formatted_code);\n",
       "                        break;\n",
       "                    }\n",
       "                }\n",
       "            }, 500);\n",
       "            "
      ],
      "text/plain": [
       "<IPython.core.display.Javascript object>"
      ]
     },
     "metadata": {},
     "output_type": "display_data"
    }
   ],
   "source": [
    "loan_dec[\"AC\"] = loan_dec[\"BRANCH_ID\"].astype(str) + loan_dec[\"ACCOUNT_NO\"].astype(str)"
   ]
  },
  {
   "cell_type": "code",
   "execution_count": 5,
   "metadata": {},
   "outputs": [
    {
     "data": {
      "application/javascript": [
       "\n",
       "            setTimeout(function() {\n",
       "                var nbb_cell_id = 5;\n",
       "                var nbb_formatted_code = \"loan_dec[\\\"AC\\\"] = loan_dec[\\\"AC\\\"].str.zfill(15)\";\n",
       "                var nbb_cells = Jupyter.notebook.get_cells();\n",
       "                for (var i = 0; i < nbb_cells.length; ++i) {\n",
       "                    if (nbb_cells[i].input_prompt_number == nbb_cell_id) {\n",
       "                        nbb_cells[i].set_text(nbb_formatted_code);\n",
       "                        break;\n",
       "                    }\n",
       "                }\n",
       "            }, 500);\n",
       "            "
      ],
      "text/plain": [
       "<IPython.core.display.Javascript object>"
      ]
     },
     "metadata": {},
     "output_type": "display_data"
    }
   ],
   "source": [
    "loan_dec[\"AC\"] = loan_dec[\"AC\"].str.zfill(15)"
   ]
  },
  {
   "cell_type": "code",
   "execution_count": 6,
   "metadata": {},
   "outputs": [
    {
     "data": {
      "application/javascript": [
       "\n",
       "            setTimeout(function() {\n",
       "                var nbb_cell_id = 6;\n",
       "                var nbb_formatted_code = \"loan_dec = loan_dec[\\n    (loan_dec[\\\"LOAN_STATUS_DESC\\\"].isin([\\\"UC\\\"]))\\n    & (loan_dec[\\\"TOTAL_BALANCE\\\"] >= 50000000)\\n]\";\n",
       "                var nbb_cells = Jupyter.notebook.get_cells();\n",
       "                for (var i = 0; i < nbb_cells.length; ++i) {\n",
       "                    if (nbb_cells[i].input_prompt_number == nbb_cell_id) {\n",
       "                        nbb_cells[i].set_text(nbb_formatted_code);\n",
       "                        break;\n",
       "                    }\n",
       "                }\n",
       "            }, 500);\n",
       "            "
      ],
      "text/plain": [
       "<IPython.core.display.Javascript object>"
      ]
     },
     "metadata": {},
     "output_type": "display_data"
    }
   ],
   "source": [
    "loan_dec = loan_dec[\n",
    "    (loan_dec[\"LOAN_STATUS_DESC\"].isin([\"UC\"]))\n",
    "    & (loan_dec[\"TOTAL_BALANCE\"] >= 50000000)\n",
    "]"
   ]
  },
  {
   "cell_type": "code",
   "execution_count": 7,
   "metadata": {},
   "outputs": [
    {
     "data": {
      "text/plain": [
       "(258, 20)"
      ]
     },
     "execution_count": 7,
     "metadata": {},
     "output_type": "execute_result"
    },
    {
     "data": {
      "application/javascript": [
       "\n",
       "            setTimeout(function() {\n",
       "                var nbb_cell_id = 7;\n",
       "                var nbb_formatted_code = \"loan_dec.shape\";\n",
       "                var nbb_cells = Jupyter.notebook.get_cells();\n",
       "                for (var i = 0; i < nbb_cells.length; ++i) {\n",
       "                    if (nbb_cells[i].input_prompt_number == nbb_cell_id) {\n",
       "                        nbb_cells[i].set_text(nbb_formatted_code);\n",
       "                        break;\n",
       "                    }\n",
       "                }\n",
       "            }, 500);\n",
       "            "
      ],
      "text/plain": [
       "<IPython.core.display.Javascript object>"
      ]
     },
     "metadata": {},
     "output_type": "display_data"
    }
   ],
   "source": [
    "loan_dec.shape"
   ]
  },
  {
   "cell_type": "code",
   "execution_count": 8,
   "metadata": {},
   "outputs": [
    {
     "data": {
      "text/plain": [
       "array(['UC'], dtype=object)"
      ]
     },
     "execution_count": 8,
     "metadata": {},
     "output_type": "execute_result"
    },
    {
     "data": {
      "application/javascript": [
       "\n",
       "            setTimeout(function() {\n",
       "                var nbb_cell_id = 8;\n",
       "                var nbb_formatted_code = \"loan_dec[\\\"LOAN_STATUS_DESC\\\"].unique()\";\n",
       "                var nbb_cells = Jupyter.notebook.get_cells();\n",
       "                for (var i = 0; i < nbb_cells.length; ++i) {\n",
       "                    if (nbb_cells[i].input_prompt_number == nbb_cell_id) {\n",
       "                        nbb_cells[i].set_text(nbb_formatted_code);\n",
       "                        break;\n",
       "                    }\n",
       "                }\n",
       "            }, 500);\n",
       "            "
      ],
      "text/plain": [
       "<IPython.core.display.Javascript object>"
      ]
     },
     "metadata": {},
     "output_type": "display_data"
    }
   ],
   "source": [
    "loan_dec[\"LOAN_STATUS_DESC\"].unique()"
   ]
  },
  {
   "cell_type": "code",
   "execution_count": 9,
   "metadata": {},
   "outputs": [
    {
     "data": {
      "text/plain": [
       "UC    258\n",
       "Name: LOAN_STATUS_DESC, dtype: int64"
      ]
     },
     "execution_count": 9,
     "metadata": {},
     "output_type": "execute_result"
    },
    {
     "data": {
      "application/javascript": [
       "\n",
       "            setTimeout(function() {\n",
       "                var nbb_cell_id = 9;\n",
       "                var nbb_formatted_code = \"loan_dec[\\\"LOAN_STATUS_DESC\\\"].value_counts()\";\n",
       "                var nbb_cells = Jupyter.notebook.get_cells();\n",
       "                for (var i = 0; i < nbb_cells.length; ++i) {\n",
       "                    if (nbb_cells[i].input_prompt_number == nbb_cell_id) {\n",
       "                        nbb_cells[i].set_text(nbb_formatted_code);\n",
       "                        break;\n",
       "                    }\n",
       "                }\n",
       "            }, 500);\n",
       "            "
      ],
      "text/plain": [
       "<IPython.core.display.Javascript object>"
      ]
     },
     "metadata": {},
     "output_type": "display_data"
    }
   ],
   "source": [
    "loan_dec[\"LOAN_STATUS_DESC\"].value_counts()"
   ]
  },
  {
   "cell_type": "code",
   "execution_count": 10,
   "metadata": {},
   "outputs": [
    {
     "data": {
      "application/javascript": [
       "\n",
       "            setTimeout(function() {\n",
       "                var nbb_cell_id = 10;\n",
       "                var nbb_formatted_code = \"loan_oct = pd.read_excel(\\\"F:\\\\GoogleDrive\\\\python\\\\Loan Classification\\\\oct_ict.xlsx\\\")\";\n",
       "                var nbb_cells = Jupyter.notebook.get_cells();\n",
       "                for (var i = 0; i < nbb_cells.length; ++i) {\n",
       "                    if (nbb_cells[i].input_prompt_number == nbb_cell_id) {\n",
       "                        nbb_cells[i].set_text(nbb_formatted_code);\n",
       "                        break;\n",
       "                    }\n",
       "                }\n",
       "            }, 500);\n",
       "            "
      ],
      "text/plain": [
       "<IPython.core.display.Javascript object>"
      ]
     },
     "metadata": {},
     "output_type": "display_data"
    }
   ],
   "source": [
    "loan_oct = pd.read_excel(\"F:\\GoogleDrive\\python\\Loan Classification\\oct_ict.xlsx\")"
   ]
  },
  {
   "cell_type": "code",
   "execution_count": 11,
   "metadata": {},
   "outputs": [
    {
     "data": {
      "application/javascript": [
       "\n",
       "            setTimeout(function() {\n",
       "                var nbb_cell_id = 11;\n",
       "                var nbb_formatted_code = \"loan_oct[\\\"AC\\\"] = loan_oct[\\\"BRANCH_ID\\\"].astype(str) + loan_oct[\\\"ACCOUNT_NO\\\"].astype(str)\";\n",
       "                var nbb_cells = Jupyter.notebook.get_cells();\n",
       "                for (var i = 0; i < nbb_cells.length; ++i) {\n",
       "                    if (nbb_cells[i].input_prompt_number == nbb_cell_id) {\n",
       "                        nbb_cells[i].set_text(nbb_formatted_code);\n",
       "                        break;\n",
       "                    }\n",
       "                }\n",
       "            }, 500);\n",
       "            "
      ],
      "text/plain": [
       "<IPython.core.display.Javascript object>"
      ]
     },
     "metadata": {},
     "output_type": "display_data"
    }
   ],
   "source": [
    "loan_oct[\"AC\"] = loan_oct[\"BRANCH_ID\"].astype(str) + loan_oct[\"ACCOUNT_NO\"].astype(str)"
   ]
  },
  {
   "cell_type": "code",
   "execution_count": 12,
   "metadata": {},
   "outputs": [
    {
     "data": {
      "application/javascript": [
       "\n",
       "            setTimeout(function() {\n",
       "                var nbb_cell_id = 12;\n",
       "                var nbb_formatted_code = \"loan_oct[\\\"AC\\\"] = loan_oct[\\\"AC\\\"].str.zfill(15)\";\n",
       "                var nbb_cells = Jupyter.notebook.get_cells();\n",
       "                for (var i = 0; i < nbb_cells.length; ++i) {\n",
       "                    if (nbb_cells[i].input_prompt_number == nbb_cell_id) {\n",
       "                        nbb_cells[i].set_text(nbb_formatted_code);\n",
       "                        break;\n",
       "                    }\n",
       "                }\n",
       "            }, 500);\n",
       "            "
      ],
      "text/plain": [
       "<IPython.core.display.Javascript object>"
      ]
     },
     "metadata": {},
     "output_type": "display_data"
    }
   ],
   "source": [
    "loan_oct[\"AC\"] = loan_oct[\"AC\"].str.zfill(15)"
   ]
  },
  {
   "cell_type": "code",
   "execution_count": 13,
   "metadata": {},
   "outputs": [
    {
     "data": {
      "text/plain": [
       "(array(['UC', 'DF', 'SMA', 'BL', 'SS'], dtype=object),\n",
       " array(['UC'], dtype=object))"
      ]
     },
     "execution_count": 13,
     "metadata": {},
     "output_type": "execute_result"
    },
    {
     "data": {
      "application/javascript": [
       "\n",
       "            setTimeout(function() {\n",
       "                var nbb_cell_id = 13;\n",
       "                var nbb_formatted_code = \"loan_oct[\\\"LON_STATUS_SH_NM\\\"].unique(), loan_dec[\\\"LOAN_STATUS_DESC\\\"].unique()\";\n",
       "                var nbb_cells = Jupyter.notebook.get_cells();\n",
       "                for (var i = 0; i < nbb_cells.length; ++i) {\n",
       "                    if (nbb_cells[i].input_prompt_number == nbb_cell_id) {\n",
       "                        nbb_cells[i].set_text(nbb_formatted_code);\n",
       "                        break;\n",
       "                    }\n",
       "                }\n",
       "            }, 500);\n",
       "            "
      ],
      "text/plain": [
       "<IPython.core.display.Javascript object>"
      ]
     },
     "metadata": {},
     "output_type": "display_data"
    }
   ],
   "source": [
    "loan_oct[\"LON_STATUS_SH_NM\"].unique(), loan_dec[\"LOAN_STATUS_DESC\"].unique()"
   ]
  },
  {
   "cell_type": "code",
   "execution_count": 14,
   "metadata": {},
   "outputs": [
    {
     "data": {
      "text/plain": [
       "UC     52857\n",
       "BL      7058\n",
       "SS      4356\n",
       "DF      2293\n",
       "SMA      306\n",
       "Name: LON_STATUS_SH_NM, dtype: int64"
      ]
     },
     "execution_count": 14,
     "metadata": {},
     "output_type": "execute_result"
    },
    {
     "data": {
      "application/javascript": [
       "\n",
       "            setTimeout(function() {\n",
       "                var nbb_cell_id = 14;\n",
       "                var nbb_formatted_code = \"loan_oct[\\\"LON_STATUS_SH_NM\\\"].value_counts()\";\n",
       "                var nbb_cells = Jupyter.notebook.get_cells();\n",
       "                for (var i = 0; i < nbb_cells.length; ++i) {\n",
       "                    if (nbb_cells[i].input_prompt_number == nbb_cell_id) {\n",
       "                        nbb_cells[i].set_text(nbb_formatted_code);\n",
       "                        break;\n",
       "                    }\n",
       "                }\n",
       "            }, 500);\n",
       "            "
      ],
      "text/plain": [
       "<IPython.core.display.Javascript object>"
      ]
     },
     "metadata": {},
     "output_type": "display_data"
    }
   ],
   "source": [
    "loan_oct[\"LON_STATUS_SH_NM\"].value_counts()"
   ]
  },
  {
   "cell_type": "code",
   "execution_count": 15,
   "metadata": {},
   "outputs": [
    {
     "data": {
      "application/javascript": [
       "\n",
       "            setTimeout(function() {\n",
       "                var nbb_cell_id = 15;\n",
       "                var nbb_formatted_code = \"loan_oct = loan_oct[loan_oct[\\\"LON_STATUS_SH_NM\\\"].isin([\\\"SS\\\", \\\"DF\\\", \\\"BL\\\"])]\";\n",
       "                var nbb_cells = Jupyter.notebook.get_cells();\n",
       "                for (var i = 0; i < nbb_cells.length; ++i) {\n",
       "                    if (nbb_cells[i].input_prompt_number == nbb_cell_id) {\n",
       "                        nbb_cells[i].set_text(nbb_formatted_code);\n",
       "                        break;\n",
       "                    }\n",
       "                }\n",
       "            }, 500);\n",
       "            "
      ],
      "text/plain": [
       "<IPython.core.display.Javascript object>"
      ]
     },
     "metadata": {},
     "output_type": "display_data"
    }
   ],
   "source": [
    "loan_oct = loan_oct[loan_oct[\"LON_STATUS_SH_NM\"].isin([\"SS\", \"DF\", \"BL\"])]"
   ]
  },
  {
   "cell_type": "code",
   "execution_count": 16,
   "metadata": {},
   "outputs": [
    {
     "data": {
      "text/plain": [
       "((13707, 39), (258, 20))"
      ]
     },
     "execution_count": 16,
     "metadata": {},
     "output_type": "execute_result"
    },
    {
     "data": {
      "application/javascript": [
       "\n",
       "            setTimeout(function() {\n",
       "                var nbb_cell_id = 16;\n",
       "                var nbb_formatted_code = \"loan_oct.shape, loan_dec.shape\";\n",
       "                var nbb_cells = Jupyter.notebook.get_cells();\n",
       "                for (var i = 0; i < nbb_cells.length; ++i) {\n",
       "                    if (nbb_cells[i].input_prompt_number == nbb_cell_id) {\n",
       "                        nbb_cells[i].set_text(nbb_formatted_code);\n",
       "                        break;\n",
       "                    }\n",
       "                }\n",
       "            }, 500);\n",
       "            "
      ],
      "text/plain": [
       "<IPython.core.display.Javascript object>"
      ]
     },
     "metadata": {},
     "output_type": "display_data"
    }
   ],
   "source": [
    "loan_oct.shape, loan_dec.shape"
   ]
  },
  {
   "cell_type": "code",
   "execution_count": 17,
   "metadata": {},
   "outputs": [
    {
     "data": {
      "application/javascript": [
       "\n",
       "            setTimeout(function() {\n",
       "                var nbb_cell_id = 17;\n",
       "                var nbb_formatted_code = \"newly_classified = loan_oct[loan_oct[\\\"AC\\\"].isin(loan_dec[\\\"AC\\\"])]\";\n",
       "                var nbb_cells = Jupyter.notebook.get_cells();\n",
       "                for (var i = 0; i < nbb_cells.length; ++i) {\n",
       "                    if (nbb_cells[i].input_prompt_number == nbb_cell_id) {\n",
       "                        nbb_cells[i].set_text(nbb_formatted_code);\n",
       "                        break;\n",
       "                    }\n",
       "                }\n",
       "            }, 500);\n",
       "            "
      ],
      "text/plain": [
       "<IPython.core.display.Javascript object>"
      ]
     },
     "metadata": {},
     "output_type": "display_data"
    }
   ],
   "source": [
    "newly_classified = loan_oct[loan_oct[\"AC\"].isin(loan_dec[\"AC\"])]"
   ]
  },
  {
   "cell_type": "code",
   "execution_count": 18,
   "metadata": {},
   "outputs": [
    {
     "data": {
      "text/plain": [
       "(21, 39)"
      ]
     },
     "execution_count": 18,
     "metadata": {},
     "output_type": "execute_result"
    },
    {
     "data": {
      "application/javascript": [
       "\n",
       "            setTimeout(function() {\n",
       "                var nbb_cell_id = 18;\n",
       "                var nbb_formatted_code = \"newly_classified.shape\";\n",
       "                var nbb_cells = Jupyter.notebook.get_cells();\n",
       "                for (var i = 0; i < nbb_cells.length; ++i) {\n",
       "                    if (nbb_cells[i].input_prompt_number == nbb_cell_id) {\n",
       "                        nbb_cells[i].set_text(nbb_formatted_code);\n",
       "                        break;\n",
       "                    }\n",
       "                }\n",
       "            }, 500);\n",
       "            "
      ],
      "text/plain": [
       "<IPython.core.display.Javascript object>"
      ]
     },
     "metadata": {},
     "output_type": "display_data"
    }
   ],
   "source": [
    "newly_classified.shape"
   ]
  },
  {
   "cell_type": "code",
   "execution_count": 19,
   "metadata": {
    "scrolled": true
   },
   "outputs": [
    {
     "data": {
      "text/plain": [
       "array(['SS', 'BL', 'DF'], dtype=object)"
      ]
     },
     "execution_count": 19,
     "metadata": {},
     "output_type": "execute_result"
    },
    {
     "data": {
      "application/javascript": [
       "\n",
       "            setTimeout(function() {\n",
       "                var nbb_cell_id = 19;\n",
       "                var nbb_formatted_code = \"newly_classified[\\\"LON_STATUS_SH_NM\\\"].unique()\";\n",
       "                var nbb_cells = Jupyter.notebook.get_cells();\n",
       "                for (var i = 0; i < nbb_cells.length; ++i) {\n",
       "                    if (nbb_cells[i].input_prompt_number == nbb_cell_id) {\n",
       "                        nbb_cells[i].set_text(nbb_formatted_code);\n",
       "                        break;\n",
       "                    }\n",
       "                }\n",
       "            }, 500);\n",
       "            "
      ],
      "text/plain": [
       "<IPython.core.display.Javascript object>"
      ]
     },
     "metadata": {},
     "output_type": "display_data"
    }
   ],
   "source": [
    "newly_classified[\"LON_STATUS_SH_NM\"].unique()"
   ]
  },
  {
   "cell_type": "code",
   "execution_count": 20,
   "metadata": {},
   "outputs": [
    {
     "data": {
      "text/plain": [
       "BL    13\n",
       "SS     6\n",
       "DF     2\n",
       "Name: LON_STATUS_SH_NM, dtype: int64"
      ]
     },
     "execution_count": 20,
     "metadata": {},
     "output_type": "execute_result"
    },
    {
     "data": {
      "application/javascript": [
       "\n",
       "            setTimeout(function() {\n",
       "                var nbb_cell_id = 20;\n",
       "                var nbb_formatted_code = \"newly_classified[\\\"LON_STATUS_SH_NM\\\"].value_counts()\";\n",
       "                var nbb_cells = Jupyter.notebook.get_cells();\n",
       "                for (var i = 0; i < nbb_cells.length; ++i) {\n",
       "                    if (nbb_cells[i].input_prompt_number == nbb_cell_id) {\n",
       "                        nbb_cells[i].set_text(nbb_formatted_code);\n",
       "                        break;\n",
       "                    }\n",
       "                }\n",
       "            }, 500);\n",
       "            "
      ],
      "text/plain": [
       "<IPython.core.display.Javascript object>"
      ]
     },
     "metadata": {},
     "output_type": "display_data"
    }
   ],
   "source": [
    "newly_classified[\"LON_STATUS_SH_NM\"].value_counts()"
   ]
  },
  {
   "cell_type": "code",
   "execution_count": 21,
   "metadata": {},
   "outputs": [
    {
     "data": {
      "text/plain": [
       "LOAN_TYPE                             LON_STATUS_SH_NM\n",
       "AGRI-CREDIT-MFI/NGOS                  BL                   16.249708\n",
       "ANY OTHER TERM LOAN                   BL                  151.048315\n",
       "                                      SS                    9.042674\n",
       "CASH CREDIT - HYPO                    DF                   14.279469\n",
       "                                      SS                   30.475481\n",
       "OD AGNST. OTHER FINANCIAL OBLIGATION  SS                   11.723637\n",
       "PROJECT FINANCE -OTHER                BL                   65.828715\n",
       "Name: BALANCE, dtype: float64"
      ]
     },
     "execution_count": 21,
     "metadata": {},
     "output_type": "execute_result"
    },
    {
     "data": {
      "application/javascript": [
       "\n",
       "            setTimeout(function() {\n",
       "                var nbb_cell_id = 21;\n",
       "                var nbb_formatted_code = \"newly_classified.groupby([\\\"LOAN_TYPE\\\", \\\"LON_STATUS_SH_NM\\\"])[\\\"BALANCE\\\"].sum() / 10000000\";\n",
       "                var nbb_cells = Jupyter.notebook.get_cells();\n",
       "                for (var i = 0; i < nbb_cells.length; ++i) {\n",
       "                    if (nbb_cells[i].input_prompt_number == nbb_cell_id) {\n",
       "                        nbb_cells[i].set_text(nbb_formatted_code);\n",
       "                        break;\n",
       "                    }\n",
       "                }\n",
       "            }, 500);\n",
       "            "
      ],
      "text/plain": [
       "<IPython.core.display.Javascript object>"
      ]
     },
     "metadata": {},
     "output_type": "display_data"
    }
   ],
   "source": [
    "newly_classified.groupby([\"LOAN_TYPE\", \"LON_STATUS_SH_NM\"])[\"BALANCE\"].sum() / 10000000"
   ]
  },
  {
   "cell_type": "code",
   "execution_count": 22,
   "metadata": {},
   "outputs": [
    {
     "data": {
      "text/plain": [
       "array(['Unnamed: 0', 'BK_CBCODE', 'BRANCH_ID', 'BRANCH_NM', 'BR_CBCODE',\n",
       "       'RANGE_CODE', 'ACCOUNT_NO', 'ACCOUNT_NM', 'NO_OF_ACCOUNT',\n",
       "       'SBS_SECTOR_CODE', 'INT_RATE', 'SBS_EP_CODE', 'SBS_SECURITY_CODE',\n",
       "       'PRODUCT_CODE', 'SME_CODE', 'CL_STATUS_ID', 'LON_STATUS_QJ_FLAG',\n",
       "       'LON_STATUS_NM', 'LON_STATUS_SH_NM', 'BALANCE', 'QRTR', 'YR',\n",
       "       'SERIAL', 'ACCOUNT_OPEN_DT', 'LOAN_TYPE', 'SANCTION_LIMIT',\n",
       "       'EFFECTIVE_DT', 'COMMIT_COL_VALUE', 'SECTOR_TYPE', 'CUSTOMER_ID',\n",
       "       'EXPIRY_DT', 'REPORT_DT', 'OVERDUE_AMT', 'PRODUCT_ID', 'ZONE_NAME',\n",
       "       'GENDER', 'RESCHEDULING_SL', 'LON_FINANCE_SECTOR_NM', 'AC'],\n",
       "      dtype=object)"
      ]
     },
     "execution_count": 22,
     "metadata": {},
     "output_type": "execute_result"
    },
    {
     "data": {
      "application/javascript": [
       "\n",
       "            setTimeout(function() {\n",
       "                var nbb_cell_id = 22;\n",
       "                var nbb_formatted_code = \"newly_classified.columns.values\";\n",
       "                var nbb_cells = Jupyter.notebook.get_cells();\n",
       "                for (var i = 0; i < nbb_cells.length; ++i) {\n",
       "                    if (nbb_cells[i].input_prompt_number == nbb_cell_id) {\n",
       "                        nbb_cells[i].set_text(nbb_formatted_code);\n",
       "                        break;\n",
       "                    }\n",
       "                }\n",
       "            }, 500);\n",
       "            "
      ],
      "text/plain": [
       "<IPython.core.display.Javascript object>"
      ]
     },
     "metadata": {},
     "output_type": "display_data"
    }
   ],
   "source": [
    "newly_classified.columns.values"
   ]
  },
  {
   "cell_type": "code",
   "execution_count": 23,
   "metadata": {},
   "outputs": [
    {
     "data": {
      "application/javascript": [
       "\n",
       "            setTimeout(function() {\n",
       "                var nbb_cell_id = 23;\n",
       "                var nbb_formatted_code = \"newly_classified_precise = newly_classified.iloc[\\n    :, [34, 3, 7, 10, 18, 19, 24, 25, 26, 30, 32]\\n]\";\n",
       "                var nbb_cells = Jupyter.notebook.get_cells();\n",
       "                for (var i = 0; i < nbb_cells.length; ++i) {\n",
       "                    if (nbb_cells[i].input_prompt_number == nbb_cell_id) {\n",
       "                        nbb_cells[i].set_text(nbb_formatted_code);\n",
       "                        break;\n",
       "                    }\n",
       "                }\n",
       "            }, 500);\n",
       "            "
      ],
      "text/plain": [
       "<IPython.core.display.Javascript object>"
      ]
     },
     "metadata": {},
     "output_type": "display_data"
    }
   ],
   "source": [
    "newly_classified_precise = newly_classified.iloc[\n",
    "    :, [34, 3, 7, 10, 18, 19, 24, 25, 26, 30, 32]\n",
    "]"
   ]
  },
  {
   "cell_type": "code",
   "execution_count": 24,
   "metadata": {},
   "outputs": [
    {
     "name": "stderr",
     "output_type": "stream",
     "text": [
      "C:\\ProgramData\\Anaconda3\\lib\\site-packages\\ipykernel_launcher.py:1: SettingWithCopyWarning: \n",
      "A value is trying to be set on a copy of a slice from a DataFrame.\n",
      "Try using .loc[row_indexer,col_indexer] = value instead\n",
      "\n",
      "See the caveats in the documentation: http://pandas.pydata.org/pandas-docs/stable/indexing.html#indexing-view-versus-copy\n",
      "  \"\"\"Entry point for launching an IPython kernel.\n"
     ]
    },
    {
     "data": {
      "application/javascript": [
       "\n",
       "            setTimeout(function() {\n",
       "                var nbb_cell_id = 24;\n",
       "                var nbb_formatted_code = \"newly_classified_precise[\\\"BALANCE\\\"] = newly_classified_precise[\\\"BALANCE\\\"] / 10000000\";\n",
       "                var nbb_cells = Jupyter.notebook.get_cells();\n",
       "                for (var i = 0; i < nbb_cells.length; ++i) {\n",
       "                    if (nbb_cells[i].input_prompt_number == nbb_cell_id) {\n",
       "                        nbb_cells[i].set_text(nbb_formatted_code);\n",
       "                        break;\n",
       "                    }\n",
       "                }\n",
       "            }, 500);\n",
       "            "
      ],
      "text/plain": [
       "<IPython.core.display.Javascript object>"
      ]
     },
     "metadata": {},
     "output_type": "display_data"
    }
   ],
   "source": [
    "newly_classified_precise[\"BALANCE\"] = newly_classified_precise[\"BALANCE\"] / 10000000"
   ]
  },
  {
   "cell_type": "code",
   "execution_count": 25,
   "metadata": {},
   "outputs": [
    {
     "name": "stderr",
     "output_type": "stream",
     "text": [
      "C:\\ProgramData\\Anaconda3\\lib\\site-packages\\ipykernel_launcher.py:2: SettingWithCopyWarning: \n",
      "A value is trying to be set on a copy of a slice from a DataFrame.\n",
      "Try using .loc[row_indexer,col_indexer] = value instead\n",
      "\n",
      "See the caveats in the documentation: http://pandas.pydata.org/pandas-docs/stable/indexing.html#indexing-view-versus-copy\n",
      "  \n"
     ]
    },
    {
     "data": {
      "application/javascript": [
       "\n",
       "            setTimeout(function() {\n",
       "                var nbb_cell_id = 25;\n",
       "                var nbb_formatted_code = \"newly_classified_precise[\\\"SANCTION_LIMIT\\\"] = (\\n    newly_classified_precise[\\\"SANCTION_LIMIT\\\"] / 10000000\\n)\";\n",
       "                var nbb_cells = Jupyter.notebook.get_cells();\n",
       "                for (var i = 0; i < nbb_cells.length; ++i) {\n",
       "                    if (nbb_cells[i].input_prompt_number == nbb_cell_id) {\n",
       "                        nbb_cells[i].set_text(nbb_formatted_code);\n",
       "                        break;\n",
       "                    }\n",
       "                }\n",
       "            }, 500);\n",
       "            "
      ],
      "text/plain": [
       "<IPython.core.display.Javascript object>"
      ]
     },
     "metadata": {},
     "output_type": "display_data"
    }
   ],
   "source": [
    "newly_classified_precise[\"SANCTION_LIMIT\"] = (\n",
    "    newly_classified_precise[\"SANCTION_LIMIT\"] / 10000000\n",
    ")"
   ]
  },
  {
   "cell_type": "code",
   "execution_count": 26,
   "metadata": {},
   "outputs": [
    {
     "name": "stderr",
     "output_type": "stream",
     "text": [
      "C:\\ProgramData\\Anaconda3\\lib\\site-packages\\ipykernel_launcher.py:2: SettingWithCopyWarning: \n",
      "A value is trying to be set on a copy of a slice from a DataFrame.\n",
      "Try using .loc[row_indexer,col_indexer] = value instead\n",
      "\n",
      "See the caveats in the documentation: http://pandas.pydata.org/pandas-docs/stable/indexing.html#indexing-view-versus-copy\n",
      "  \n"
     ]
    },
    {
     "data": {
      "application/javascript": [
       "\n",
       "            setTimeout(function() {\n",
       "                var nbb_cell_id = 26;\n",
       "                var nbb_formatted_code = \"newly_classified_precise[\\\"OVERDUE_AMT\\\"] = (\\n    newly_classified_precise[\\\"OVERDUE_AMT\\\"] / 10000000\\n)\";\n",
       "                var nbb_cells = Jupyter.notebook.get_cells();\n",
       "                for (var i = 0; i < nbb_cells.length; ++i) {\n",
       "                    if (nbb_cells[i].input_prompt_number == nbb_cell_id) {\n",
       "                        nbb_cells[i].set_text(nbb_formatted_code);\n",
       "                        break;\n",
       "                    }\n",
       "                }\n",
       "            }, 500);\n",
       "            "
      ],
      "text/plain": [
       "<IPython.core.display.Javascript object>"
      ]
     },
     "metadata": {},
     "output_type": "display_data"
    }
   ],
   "source": [
    "newly_classified_precise[\"OVERDUE_AMT\"] = (\n",
    "    newly_classified_precise[\"OVERDUE_AMT\"] / 10000000\n",
    ")"
   ]
  },
  {
   "cell_type": "code",
   "execution_count": 27,
   "metadata": {},
   "outputs": [
    {
     "data": {
      "application/javascript": [
       "\n",
       "            setTimeout(function() {\n",
       "                var nbb_cell_id = 27;\n",
       "                var nbb_formatted_code = \"newly_classified_precise = newly_classified_precise.sort_values(\\n    [\\\"BALANCE\\\", \\\"ZONE_NAME\\\"], ascending=[False, True]\\n)\";\n",
       "                var nbb_cells = Jupyter.notebook.get_cells();\n",
       "                for (var i = 0; i < nbb_cells.length; ++i) {\n",
       "                    if (nbb_cells[i].input_prompt_number == nbb_cell_id) {\n",
       "                        nbb_cells[i].set_text(nbb_formatted_code);\n",
       "                        break;\n",
       "                    }\n",
       "                }\n",
       "            }, 500);\n",
       "            "
      ],
      "text/plain": [
       "<IPython.core.display.Javascript object>"
      ]
     },
     "metadata": {},
     "output_type": "display_data"
    }
   ],
   "source": [
    "newly_classified_precise = newly_classified_precise.sort_values(\n",
    "    [\"BALANCE\", \"ZONE_NAME\"], ascending=[False, True]\n",
    ")"
   ]
  },
  {
   "cell_type": "code",
   "execution_count": 28,
   "metadata": {},
   "outputs": [
    {
     "data": {
      "text/html": [
       "<div>\n",
       "<style scoped>\n",
       "    .dataframe tbody tr th:only-of-type {\n",
       "        vertical-align: middle;\n",
       "    }\n",
       "\n",
       "    .dataframe tbody tr th {\n",
       "        vertical-align: top;\n",
       "    }\n",
       "\n",
       "    .dataframe thead th {\n",
       "        text-align: right;\n",
       "    }\n",
       "</style>\n",
       "<table border=\"1\" class=\"dataframe\">\n",
       "  <thead>\n",
       "    <tr style=\"text-align: right;\">\n",
       "      <th></th>\n",
       "      <th>ZONE_NAME</th>\n",
       "      <th>BRANCH_NM</th>\n",
       "      <th>ACCOUNT_NM</th>\n",
       "      <th>INT_RATE</th>\n",
       "      <th>LON_STATUS_SH_NM</th>\n",
       "      <th>BALANCE</th>\n",
       "      <th>LOAN_TYPE</th>\n",
       "      <th>SANCTION_LIMIT</th>\n",
       "      <th>EFFECTIVE_DT</th>\n",
       "      <th>EXPIRY_DT</th>\n",
       "      <th>OVERDUE_AMT</th>\n",
       "    </tr>\n",
       "  </thead>\n",
       "  <tbody>\n",
       "    <tr>\n",
       "      <th>24617</th>\n",
       "      <td>Local Office</td>\n",
       "      <td>Local Office</td>\n",
       "      <td>TRADEXCEL CERAMICS LTD.{FORMER TRADEXCEL AUTO ...</td>\n",
       "      <td>8.0</td>\n",
       "      <td>BL</td>\n",
       "      <td>39.735543</td>\n",
       "      <td>PROJECT FINANCE -OTHER</td>\n",
       "      <td>29.780000</td>\n",
       "      <td>30/06/2018</td>\n",
       "      <td>2024-06-30</td>\n",
       "      <td>3.719849</td>\n",
       "    </tr>\n",
       "    <tr>\n",
       "      <th>30906</th>\n",
       "      <td>Dhaka Central Zone</td>\n",
       "      <td>Gulshan Branch</td>\n",
       "      <td>UNION IMPORT</td>\n",
       "      <td>13.5</td>\n",
       "      <td>BL</td>\n",
       "      <td>33.992358</td>\n",
       "      <td>ANY OTHER TERM LOAN</td>\n",
       "      <td>21.610464</td>\n",
       "      <td>01/10/2015</td>\n",
       "      <td>2019-09-30</td>\n",
       "      <td>33.992358</td>\n",
       "    </tr>\n",
       "    <tr>\n",
       "      <th>2189</th>\n",
       "      <td>Chattogram Zone</td>\n",
       "      <td>Agrabad Branch</td>\n",
       "      <td>SAMANNAZ SUPER OIL LTD.</td>\n",
       "      <td>0.0</td>\n",
       "      <td>BL</td>\n",
       "      <td>29.987360</td>\n",
       "      <td>ANY OTHER TERM LOAN</td>\n",
       "      <td>24.310913</td>\n",
       "      <td>01/11/2015</td>\n",
       "      <td>2021-10-31</td>\n",
       "      <td>19.092889</td>\n",
       "    </tr>\n",
       "    <tr>\n",
       "      <th>4219</th>\n",
       "      <td>Chattogram Zone</td>\n",
       "      <td>Laldighi Branch</td>\n",
       "      <td>SAAD MUSA FABRICS LIMITED (UNIT-2)</td>\n",
       "      <td>9.0</td>\n",
       "      <td>BL</td>\n",
       "      <td>29.375090</td>\n",
       "      <td>ANY OTHER TERM LOAN</td>\n",
       "      <td>28.097303</td>\n",
       "      <td>01/01/2019</td>\n",
       "      <td>2023-12-30</td>\n",
       "      <td>2.109983</td>\n",
       "    </tr>\n",
       "    <tr>\n",
       "      <th>2188</th>\n",
       "      <td>Chattogram Zone</td>\n",
       "      <td>Agrabad Branch</td>\n",
       "      <td>SAMANNAZ SUPER OIL LTD.</td>\n",
       "      <td>0.0</td>\n",
       "      <td>BL</td>\n",
       "      <td>21.888793</td>\n",
       "      <td>ANY OTHER TERM LOAN</td>\n",
       "      <td>17.719623</td>\n",
       "      <td>01/11/2015</td>\n",
       "      <td>2021-10-31</td>\n",
       "      <td>13.928924</td>\n",
       "    </tr>\n",
       "    <tr>\n",
       "      <th>20730</th>\n",
       "      <td>Dhaka North Zone</td>\n",
       "      <td>Shyamoli Branch</td>\n",
       "      <td>RESOURCE DEVELOPMENT FOUNDATION(RDF)</td>\n",
       "      <td>9.0</td>\n",
       "      <td>BL</td>\n",
       "      <td>13.715193</td>\n",
       "      <td>ANY OTHER TERM LOAN</td>\n",
       "      <td>13.589854</td>\n",
       "      <td>31/07/2018</td>\n",
       "      <td>2020-07-30</td>\n",
       "      <td>8.915235</td>\n",
       "    </tr>\n",
       "    <tr>\n",
       "      <th>30967</th>\n",
       "      <td>Dhaka Central Zone</td>\n",
       "      <td>Gulshan Branch</td>\n",
       "      <td>TRADEXCEL AGRO</td>\n",
       "      <td>9.5</td>\n",
       "      <td>BL</td>\n",
       "      <td>13.709775</td>\n",
       "      <td>ANY OTHER TERM LOAN</td>\n",
       "      <td>14.931300</td>\n",
       "      <td>01/10/2018</td>\n",
       "      <td>2021-09-30</td>\n",
       "      <td>4.303948</td>\n",
       "    </tr>\n",
       "    <tr>\n",
       "      <th>24614</th>\n",
       "      <td>Local Office</td>\n",
       "      <td>Local Office</td>\n",
       "      <td>TRADEXCEL CERAMICS LTD.{FORMER TRADEXCEL AUTO ...</td>\n",
       "      <td>9.0</td>\n",
       "      <td>BL</td>\n",
       "      <td>12.542345</td>\n",
       "      <td>PROJECT FINANCE -OTHER</td>\n",
       "      <td>5.220000</td>\n",
       "      <td>30/06/2018</td>\n",
       "      <td>2024-06-30</td>\n",
       "      <td>0.585039</td>\n",
       "    </tr>\n",
       "    <tr>\n",
       "      <th>30740</th>\n",
       "      <td>Dhaka Central Zone</td>\n",
       "      <td>Gulshan Branch</td>\n",
       "      <td>TRADEXCEL AGRO</td>\n",
       "      <td>9.5</td>\n",
       "      <td>SS</td>\n",
       "      <td>11.723637</td>\n",
       "      <td>OD AGNST. OTHER FINANCIAL OBLIGATION</td>\n",
       "      <td>11.050000</td>\n",
       "      <td>01/01/2019</td>\n",
       "      <td>2019-06-30</td>\n",
       "      <td>11.723637</td>\n",
       "    </tr>\n",
       "    <tr>\n",
       "      <th>3561</th>\n",
       "      <td>Dhaka North Zone</td>\n",
       "      <td>Mohammadpur Branch</td>\n",
       "      <td>SANCRED WELFARE FOUNDATION  SWF</td>\n",
       "      <td>9.0</td>\n",
       "      <td>BL</td>\n",
       "      <td>10.134289</td>\n",
       "      <td>AGRI-CREDIT-MFI/NGOS</td>\n",
       "      <td>10.000000</td>\n",
       "      <td>01/11/2017</td>\n",
       "      <td>2019-11-10</td>\n",
       "      <td>9.633990</td>\n",
       "    </tr>\n",
       "    <tr>\n",
       "      <th>2141</th>\n",
       "      <td>Chattogram Zone</td>\n",
       "      <td>Agrabad Branch</td>\n",
       "      <td>M/S ARAFAT CORPORATION</td>\n",
       "      <td>10.5</td>\n",
       "      <td>SS</td>\n",
       "      <td>9.479182</td>\n",
       "      <td>CASH CREDIT - HYPO</td>\n",
       "      <td>8.000000</td>\n",
       "      <td>30/07/2018</td>\n",
       "      <td>2019-07-31</td>\n",
       "      <td>9.479182</td>\n",
       "    </tr>\n",
       "    <tr>\n",
       "      <th>24825</th>\n",
       "      <td>Local Office</td>\n",
       "      <td>Local Office</td>\n",
       "      <td>PEOPLES LEASING  FINANCIAL SERVICES LTD</td>\n",
       "      <td>11.0</td>\n",
       "      <td>SS</td>\n",
       "      <td>9.042674</td>\n",
       "      <td>ANY OTHER TERM LOAN</td>\n",
       "      <td>9.541719</td>\n",
       "      <td>01/04/2018</td>\n",
       "      <td>2019-12-31</td>\n",
       "      <td>7.649964</td>\n",
       "    </tr>\n",
       "    <tr>\n",
       "      <th>24238</th>\n",
       "      <td>Dhaka South Zone</td>\n",
       "      <td>Mitford Road Branch</td>\n",
       "      <td>M/S.MOLLIK METAL INDUSTRIES,</td>\n",
       "      <td>10.0</td>\n",
       "      <td>SS</td>\n",
       "      <td>8.843995</td>\n",
       "      <td>CASH CREDIT - HYPO</td>\n",
       "      <td>8.000000</td>\n",
       "      <td>27/06/2018</td>\n",
       "      <td>2019-06-30</td>\n",
       "      <td>8.843995</td>\n",
       "    </tr>\n",
       "    <tr>\n",
       "      <th>30905</th>\n",
       "      <td>Dhaka Central Zone</td>\n",
       "      <td>Gulshan Branch</td>\n",
       "      <td>UNION IMPORT</td>\n",
       "      <td>13.5</td>\n",
       "      <td>BL</td>\n",
       "      <td>8.379747</td>\n",
       "      <td>ANY OTHER TERM LOAN</td>\n",
       "      <td>5.306086</td>\n",
       "      <td>01/10/2015</td>\n",
       "      <td>2019-09-30</td>\n",
       "      <td>8.379747</td>\n",
       "    </tr>\n",
       "    <tr>\n",
       "      <th>26507</th>\n",
       "      <td>Dhaka Central Zone</td>\n",
       "      <td>Shantinagar Branch</td>\n",
       "      <td>M/S HAZI TEXTIL MILLS</td>\n",
       "      <td>12.5</td>\n",
       "      <td>DF</td>\n",
       "      <td>7.769095</td>\n",
       "      <td>CASH CREDIT - HYPO</td>\n",
       "      <td>6.500000</td>\n",
       "      <td>30/09/2018</td>\n",
       "      <td>2019-01-31</td>\n",
       "      <td>7.769095</td>\n",
       "    </tr>\n",
       "    <tr>\n",
       "      <th>24615</th>\n",
       "      <td>Local Office</td>\n",
       "      <td>Local Office</td>\n",
       "      <td>TRADEXCEL CERAMICS LTD.{FORMER TRADEXCEL AUTO ...</td>\n",
       "      <td>9.0</td>\n",
       "      <td>BL</td>\n",
       "      <td>7.111171</td>\n",
       "      <td>PROJECT FINANCE -OTHER</td>\n",
       "      <td>5.000000</td>\n",
       "      <td>30/06/2018</td>\n",
       "      <td>2024-12-31</td>\n",
       "      <td>0.512372</td>\n",
       "    </tr>\n",
       "    <tr>\n",
       "      <th>3905</th>\n",
       "      <td>Chattogram Zone</td>\n",
       "      <td>Khatungonj Branch</td>\n",
       "      <td>M/S. SHAMIM ENTERPRISE</td>\n",
       "      <td>11.0</td>\n",
       "      <td>SS</td>\n",
       "      <td>7.028901</td>\n",
       "      <td>CASH CREDIT - HYPO</td>\n",
       "      <td>6.000000</td>\n",
       "      <td>01/05/2018</td>\n",
       "      <td>2019-04-30</td>\n",
       "      <td>7.028901</td>\n",
       "    </tr>\n",
       "    <tr>\n",
       "      <th>3901</th>\n",
       "      <td>Chattogram Zone</td>\n",
       "      <td>Khatungonj Branch</td>\n",
       "      <td>M/S. SHELI ENTERPRISE</td>\n",
       "      <td>11.0</td>\n",
       "      <td>DF</td>\n",
       "      <td>6.510373</td>\n",
       "      <td>CASH CREDIT - HYPO</td>\n",
       "      <td>6.000000</td>\n",
       "      <td>01/02/2018</td>\n",
       "      <td>2019-01-31</td>\n",
       "      <td>6.510373</td>\n",
       "    </tr>\n",
       "    <tr>\n",
       "      <th>24616</th>\n",
       "      <td>Local Office</td>\n",
       "      <td>Local Office</td>\n",
       "      <td>TRADEXCEL CERAMICS LTD.{FORMER TRADEXCEL AUTO ...</td>\n",
       "      <td>9.0</td>\n",
       "      <td>BL</td>\n",
       "      <td>6.439655</td>\n",
       "      <td>PROJECT FINANCE -OTHER</td>\n",
       "      <td>5.000000</td>\n",
       "      <td>30/06/2018</td>\n",
       "      <td>2024-12-31</td>\n",
       "      <td>0.512372</td>\n",
       "    </tr>\n",
       "    <tr>\n",
       "      <th>3560</th>\n",
       "      <td>Dhaka North Zone</td>\n",
       "      <td>Mohammadpur Branch</td>\n",
       "      <td>SANCRED WELFARE FOUNDATION  SWF</td>\n",
       "      <td>9.0</td>\n",
       "      <td>BL</td>\n",
       "      <td>6.115419</td>\n",
       "      <td>AGRI-CREDIT-MFI/NGOS</td>\n",
       "      <td>10.000000</td>\n",
       "      <td>27/07/2016</td>\n",
       "      <td>2019-07-26</td>\n",
       "      <td>6.115419</td>\n",
       "    </tr>\n",
       "    <tr>\n",
       "      <th>58875</th>\n",
       "      <td>Bogura Zone</td>\n",
       "      <td>Dinajpur Branch</td>\n",
       "      <td>M/S. P.R AUTO RICE MILL</td>\n",
       "      <td>12.0</td>\n",
       "      <td>SS</td>\n",
       "      <td>5.123403</td>\n",
       "      <td>CASH CREDIT - HYPO</td>\n",
       "      <td>4.900000</td>\n",
       "      <td>10/10/2018</td>\n",
       "      <td>2019-09-30</td>\n",
       "      <td>5.123403</td>\n",
       "    </tr>\n",
       "  </tbody>\n",
       "</table>\n",
       "</div>"
      ],
      "text/plain": [
       "                ZONE_NAME            BRANCH_NM  \\\n",
       "24617        Local Office         Local Office   \n",
       "30906  Dhaka Central Zone       Gulshan Branch   \n",
       "2189      Chattogram Zone       Agrabad Branch   \n",
       "4219      Chattogram Zone      Laldighi Branch   \n",
       "2188      Chattogram Zone       Agrabad Branch   \n",
       "20730    Dhaka North Zone      Shyamoli Branch   \n",
       "30967  Dhaka Central Zone       Gulshan Branch   \n",
       "24614        Local Office         Local Office   \n",
       "30740  Dhaka Central Zone       Gulshan Branch   \n",
       "3561     Dhaka North Zone   Mohammadpur Branch   \n",
       "2141      Chattogram Zone       Agrabad Branch   \n",
       "24825        Local Office         Local Office   \n",
       "24238    Dhaka South Zone  Mitford Road Branch   \n",
       "30905  Dhaka Central Zone       Gulshan Branch   \n",
       "26507  Dhaka Central Zone   Shantinagar Branch   \n",
       "24615        Local Office         Local Office   \n",
       "3905      Chattogram Zone    Khatungonj Branch   \n",
       "3901      Chattogram Zone    Khatungonj Branch   \n",
       "24616        Local Office         Local Office   \n",
       "3560     Dhaka North Zone   Mohammadpur Branch   \n",
       "58875         Bogura Zone      Dinajpur Branch   \n",
       "\n",
       "                                              ACCOUNT_NM  INT_RATE  \\\n",
       "24617  TRADEXCEL CERAMICS LTD.{FORMER TRADEXCEL AUTO ...       8.0   \n",
       "30906                                       UNION IMPORT      13.5   \n",
       "2189                             SAMANNAZ SUPER OIL LTD.       0.0   \n",
       "4219                  SAAD MUSA FABRICS LIMITED (UNIT-2)       9.0   \n",
       "2188                             SAMANNAZ SUPER OIL LTD.       0.0   \n",
       "20730               RESOURCE DEVELOPMENT FOUNDATION(RDF)       9.0   \n",
       "30967                                     TRADEXCEL AGRO       9.5   \n",
       "24614  TRADEXCEL CERAMICS LTD.{FORMER TRADEXCEL AUTO ...       9.0   \n",
       "30740                                     TRADEXCEL AGRO       9.5   \n",
       "3561                     SANCRED WELFARE FOUNDATION  SWF       9.0   \n",
       "2141                              M/S ARAFAT CORPORATION      10.5   \n",
       "24825            PEOPLES LEASING  FINANCIAL SERVICES LTD      11.0   \n",
       "24238                       M/S.MOLLIK METAL INDUSTRIES,      10.0   \n",
       "30905                                       UNION IMPORT      13.5   \n",
       "26507                              M/S HAZI TEXTIL MILLS      12.5   \n",
       "24615  TRADEXCEL CERAMICS LTD.{FORMER TRADEXCEL AUTO ...       9.0   \n",
       "3905                              M/S. SHAMIM ENTERPRISE      11.0   \n",
       "3901                               M/S. SHELI ENTERPRISE      11.0   \n",
       "24616  TRADEXCEL CERAMICS LTD.{FORMER TRADEXCEL AUTO ...       9.0   \n",
       "3560                     SANCRED WELFARE FOUNDATION  SWF       9.0   \n",
       "58875                            M/S. P.R AUTO RICE MILL      12.0   \n",
       "\n",
       "      LON_STATUS_SH_NM    BALANCE                             LOAN_TYPE  \\\n",
       "24617               BL  39.735543                PROJECT FINANCE -OTHER   \n",
       "30906               BL  33.992358                   ANY OTHER TERM LOAN   \n",
       "2189                BL  29.987360                   ANY OTHER TERM LOAN   \n",
       "4219                BL  29.375090                   ANY OTHER TERM LOAN   \n",
       "2188                BL  21.888793                   ANY OTHER TERM LOAN   \n",
       "20730               BL  13.715193                   ANY OTHER TERM LOAN   \n",
       "30967               BL  13.709775                   ANY OTHER TERM LOAN   \n",
       "24614               BL  12.542345                PROJECT FINANCE -OTHER   \n",
       "30740               SS  11.723637  OD AGNST. OTHER FINANCIAL OBLIGATION   \n",
       "3561                BL  10.134289                  AGRI-CREDIT-MFI/NGOS   \n",
       "2141                SS   9.479182                    CASH CREDIT - HYPO   \n",
       "24825               SS   9.042674                   ANY OTHER TERM LOAN   \n",
       "24238               SS   8.843995                    CASH CREDIT - HYPO   \n",
       "30905               BL   8.379747                   ANY OTHER TERM LOAN   \n",
       "26507               DF   7.769095                    CASH CREDIT - HYPO   \n",
       "24615               BL   7.111171                PROJECT FINANCE -OTHER   \n",
       "3905                SS   7.028901                    CASH CREDIT - HYPO   \n",
       "3901                DF   6.510373                    CASH CREDIT - HYPO   \n",
       "24616               BL   6.439655                PROJECT FINANCE -OTHER   \n",
       "3560                BL   6.115419                  AGRI-CREDIT-MFI/NGOS   \n",
       "58875               SS   5.123403                    CASH CREDIT - HYPO   \n",
       "\n",
       "       SANCTION_LIMIT EFFECTIVE_DT  EXPIRY_DT  OVERDUE_AMT  \n",
       "24617       29.780000   30/06/2018 2024-06-30     3.719849  \n",
       "30906       21.610464   01/10/2015 2019-09-30    33.992358  \n",
       "2189        24.310913   01/11/2015 2021-10-31    19.092889  \n",
       "4219        28.097303   01/01/2019 2023-12-30     2.109983  \n",
       "2188        17.719623   01/11/2015 2021-10-31    13.928924  \n",
       "20730       13.589854   31/07/2018 2020-07-30     8.915235  \n",
       "30967       14.931300   01/10/2018 2021-09-30     4.303948  \n",
       "24614        5.220000   30/06/2018 2024-06-30     0.585039  \n",
       "30740       11.050000   01/01/2019 2019-06-30    11.723637  \n",
       "3561        10.000000   01/11/2017 2019-11-10     9.633990  \n",
       "2141         8.000000   30/07/2018 2019-07-31     9.479182  \n",
       "24825        9.541719   01/04/2018 2019-12-31     7.649964  \n",
       "24238        8.000000   27/06/2018 2019-06-30     8.843995  \n",
       "30905        5.306086   01/10/2015 2019-09-30     8.379747  \n",
       "26507        6.500000   30/09/2018 2019-01-31     7.769095  \n",
       "24615        5.000000   30/06/2018 2024-12-31     0.512372  \n",
       "3905         6.000000   01/05/2018 2019-04-30     7.028901  \n",
       "3901         6.000000   01/02/2018 2019-01-31     6.510373  \n",
       "24616        5.000000   30/06/2018 2024-12-31     0.512372  \n",
       "3560        10.000000   27/07/2016 2019-07-26     6.115419  \n",
       "58875        4.900000   10/10/2018 2019-09-30     5.123403  "
      ]
     },
     "execution_count": 28,
     "metadata": {},
     "output_type": "execute_result"
    },
    {
     "data": {
      "application/javascript": [
       "\n",
       "            setTimeout(function() {\n",
       "                var nbb_cell_id = 28;\n",
       "                var nbb_formatted_code = \"newly_classified_precise\";\n",
       "                var nbb_cells = Jupyter.notebook.get_cells();\n",
       "                for (var i = 0; i < nbb_cells.length; ++i) {\n",
       "                    if (nbb_cells[i].input_prompt_number == nbb_cell_id) {\n",
       "                        nbb_cells[i].set_text(nbb_formatted_code);\n",
       "                        break;\n",
       "                    }\n",
       "                }\n",
       "            }, 500);\n",
       "            "
      ],
      "text/plain": [
       "<IPython.core.display.Javascript object>"
      ]
     },
     "metadata": {},
     "output_type": "display_data"
    }
   ],
   "source": [
    "newly_classified_precise"
   ]
  },
  {
   "cell_type": "code",
   "execution_count": 29,
   "metadata": {},
   "outputs": [
    {
     "data": {
      "application/javascript": [
       "\n",
       "            setTimeout(function() {\n",
       "                var nbb_cell_id = 29;\n",
       "                var nbb_formatted_code = \"newly_classified_precise.to_excel(\\n    r\\\"F:\\\\GoogleDrive\\\\python\\\\Loan Classification\\\\newly_classified.xlsx\\\", index=False\\n)\";\n",
       "                var nbb_cells = Jupyter.notebook.get_cells();\n",
       "                for (var i = 0; i < nbb_cells.length; ++i) {\n",
       "                    if (nbb_cells[i].input_prompt_number == nbb_cell_id) {\n",
       "                        nbb_cells[i].set_text(nbb_formatted_code);\n",
       "                        break;\n",
       "                    }\n",
       "                }\n",
       "            }, 500);\n",
       "            "
      ],
      "text/plain": [
       "<IPython.core.display.Javascript object>"
      ]
     },
     "metadata": {},
     "output_type": "display_data"
    }
   ],
   "source": [
    "newly_classified_precise.to_excel(\n",
    "    r\"F:\\GoogleDrive\\python\\Loan Classification\\newly_classified.xlsx\", index=False\n",
    ")"
   ]
  }
 ],
 "metadata": {
  "kernelspec": {
   "display_name": "Python 3",
   "language": "python",
   "name": "python3"
  },
  "language_info": {
   "codemirror_mode": {
    "name": "ipython",
    "version": 3
   },
   "file_extension": ".py",
   "mimetype": "text/x-python",
   "name": "python",
   "nbconvert_exporter": "python",
   "pygments_lexer": "ipython3",
   "version": "3.7.3"
  }
 },
 "nbformat": 4,
 "nbformat_minor": 1
}
